{
 "cells": [
  {
   "cell_type": "markdown",
   "metadata": {
    "collapsed": true
   },
   "source": [
    "# TensorFlow"
   ]
  },
  {
   "cell_type": "markdown",
   "metadata": {},
   "source": [
    "## Prediccion de precios de casas según su tamaño:"
   ]
  },
  {
   "cell_type": "markdown",
   "metadata": {},
   "source": [
    "### Librerias:"
   ]
  },
  {
   "cell_type": "code",
   "execution_count": 1,
   "metadata": {
    "collapsed": true
   },
   "outputs": [],
   "source": [
    "import tensorflow as tf\n",
    "import numpy as np\n",
    "import math\n",
    "import matplotlib.pyplot as plt\n",
    "import matplotlib.animation as animation"
   ]
  },
  {
   "cell_type": "markdown",
   "metadata": {},
   "source": [
    "### Creacion de Modelo:"
   ]
  },
  {
   "cell_type": "code",
   "execution_count": 2,
   "metadata": {
    "collapsed": true
   },
   "outputs": [],
   "source": [
    "houses_numbers = 160; #Se establece el numero de casas con el que se quiere trabajar."
   ]
  },
  {
   "cell_type": "code",
   "execution_count": 3,
   "metadata": {
    "collapsed": true
   },
   "outputs": [],
   "source": [
    "np.random.seed(42); #Numero en el que empezara a hacer el conteo aleatorio."
   ]
  },
  {
   "cell_type": "code",
   "execution_count": 4,
   "metadata": {
    "collapsed": true
   },
   "outputs": [],
   "source": [
    "#160 tamaños de casasnumeros aleatorios entre 1000 y 3600.\n",
    "house_size = np.random.randint(low = 1000, high= 3600, size=houses_numbers)"
   ]
  },
  {
   "cell_type": "code",
   "execution_count": 5,
   "metadata": {
    "collapsed": true
   },
   "outputs": [],
   "source": [
    "np.random.seed(42);"
   ]
  },
  {
   "cell_type": "code",
   "execution_count": 6,
   "metadata": {
    "collapsed": true
   },
   "outputs": [],
   "source": [
    "#160 precios de casas aleatorios entre 20000 y 70000 sumados por la multiplicacion del tamaño y 100.0\n",
    "house_price = house_size * 100.0 + np.random.randint(low=20000, high=70000, size=houses_numbers)"
   ]
  },
  {
   "cell_type": "code",
   "execution_count": 7,
   "metadata": {},
   "outputs": [
    {
     "data": {
      "image/png": "[encoded data removed]",
      "text/plain": [
       "<matplotlib.figure.Figure at 0x27f55897898>"
      ]
     },
     "metadata": {},
     "output_type": "display_data"
    }
   ],
   "source": [
    "plt.plot(house_size, house_price, \"bx\") # Tamaño en eje X, Precio en eje Y.\n",
    "plt.ylabel(\"Price\") # Label para el eje Y.\n",
    "plt.xlabel(\"Size\") # Label para el eje X.\n",
    "plt.show() # Se muestra la grafica."
   ]
  },
  {
   "cell_type": "markdown",
   "metadata": {},
   "source": [
    "### Preparación de datos:"
   ]
  },
  {
   "cell_type": "code",
   "execution_count": 8,
   "metadata": {
    "collapsed": true
   },
   "outputs": [],
   "source": [
    "# Normalizacion de datos para que el tamaño y precio esten en la misma escala.\n",
    "def normalize(array):\n",
    "    return (array - array.mean())/ array.std()"
   ]
  },
  {
   "cell_type": "code",
   "execution_count": 9,
   "metadata": {
    "collapsed": true
   },
   "outputs": [],
   "source": [
    "# Divisiom de datos para entrenamiento. MathFloor devuelve un entero menor o igual a un numero.\n",
    "train_samples_number = math.floor(houses_numbers * 0.7) # 70% de datos para entrenamiento. -112 numeros-"
   ]
  },
  {
   "cell_type": "code",
   "execution_count": 10,
   "metadata": {
    "collapsed": true
   },
   "outputs": [],
   "source": [
    "# Tomamos el 70% de datos y los etiquetamos como datos de entrenamiento.\n",
    "train_house_size = normalize(house_size[:train_samples_number]);\n",
    "train_house_price = normalize(house_price[:train_samples_number]);\n",
    "\n",
    "# Se normalizan los datos.\n",
    "\n",
    "train_house_size_norm = normalize(train_house_size);\n",
    "train_house_price_norm = normalize(train_house_price);"
   ]
  },
  {
   "cell_type": "code",
   "execution_count": 11,
   "metadata": {
    "collapsed": true
   },
   "outputs": [],
   "source": [
    "# Se toman los ultimo 30% datos para testear.\n",
    "test_house_size = normalize(house_size[train_samples_number:]);\n",
    "test_house_price = normalize(house_price[train_samples_number:]);\n",
    "\n",
    "# Se normalizan los datos.\n",
    "test_house_size_norm = normalize(test_house_size);\n",
    "test_house_price_norm = normalize(test_house_price);"
   ]
  },
  {
   "cell_type": "markdown",
   "metadata": {},
   "source": [
    "### Contenedores Tensor"
   ]
  },
  {
   "cell_type": "markdown",
   "metadata": {},
   "source": [
    "###### Existen diversos tipos de contenedores de tensores: Constant , Variable, PlaceHolder"
   ]
  },
  {
   "cell_type": "code",
   "execution_count": 12,
   "metadata": {
    "collapsed": true
   },
   "outputs": [],
   "source": [
    "# Se usa \"TensorFlow PlaceHolder\" que se actualiza cada vez que se deciende el gradiente.\n",
    "tf_house_size = tf.placeholder(\"float\", name=\"house_size\");\n",
    "tf_price = tf.placeholder(\"float\", name=\"price\");"
   ]
  },
  {
   "cell_type": "markdown",
   "metadata": {},
   "source": [
    "#### 1. Variables que presionan el factor de tamaño y precio"
   ]
  },
  {
   "cell_type": "code",
   "execution_count": 13,
   "metadata": {
    "collapsed": true
   },
   "outputs": [],
   "source": [
    "# Se definen las variables presionando el factor del precio y el precio durante el entrenamiento.\n",
    "# Se inicializan en valores random basados en la distribucion normal.\n",
    "tf_size_factor = tf.Variable(np.random.randn(), name=\"size_factor\");\n",
    "tf_price_offset = tf.Variable(np.random.randn(), name=\"price_offset\")"
   ]
  },
  {
   "cell_type": "markdown",
   "metadata": {},
   "source": [
    "### Funcion de Inferencia"
   ]
  },
  {
   "cell_type": "code",
   "execution_count": 14,
   "metadata": {
    "collapsed": true
   },
   "outputs": [],
   "source": [
    "tf_price_pred = tf.add(tf.multiply(tf_size_factor, tf_house_size), tf_price_offset) # Funcion De Inferencia"
   ]
  },
  {
   "cell_type": "markdown",
   "metadata": {},
   "source": [
    "### Calculo de error"
   ]
  },
  {
   "cell_type": "code",
   "execution_count": 15,
   "metadata": {
    "collapsed": true
   },
   "outputs": [],
   "source": [
    "tf_cost = tf.reduce_sum(tf.pow(tf_price_pred-tf_price, 2))/(2*train_samples_number) # Calculo de error"
   ]
  },
  {
   "cell_type": "code",
   "execution_count": 16,
   "metadata": {
    "collapsed": true
   },
   "outputs": [],
   "source": [
    "# Rango de aprendizaje optimo\n",
    "learning_rate = 0.1"
   ]
  },
  {
   "cell_type": "markdown",
   "metadata": {},
   "source": [
    "### Funcion de Optimizacion"
   ]
  },
  {
   "cell_type": "code",
   "execution_count": 17,
   "metadata": {
    "collapsed": true
   },
   "outputs": [],
   "source": [
    "# Definicion del gradiente de decenso que minimiza las perdidas en el costo de operaciones\n",
    "optimizer = tf.train.GradientDescentOptimizer(learning_rate).minimize(tf_cost) "
   ]
  },
  {
   "cell_type": "markdown",
   "metadata": {},
   "source": [
    "### TensorFlow Variables INIT"
   ]
  },
  {
   "cell_type": "code",
   "execution_count": 18,
   "metadata": {
    "collapsed": true
   },
   "outputs": [],
   "source": [
    "# Las variables estan definidas en el entorno de TensorFlow pero no en el entorno Global y no tienen valores iniciales.\n",
    "init = tf.global_variables_initializer();"
   ]
  },
  {
   "cell_type": "markdown",
   "metadata": {},
   "source": [
    "## Sesion:"
   ]
  },
  {
   "cell_type": "code",
   "execution_count": 28,
   "metadata": {
    "scrolled": true
   },
   "outputs": [
    {
     "name": "stdout",
     "output_type": "stream",
     "text": [
      "iteation #: 0002 cost=  0.720269 size_factor= 0.0916244 price_offset= -0.782001\n",
      "iteation #: 0004 cost=  0.489369 size_factor= 0.252775 price_offset= -0.640098\n",
      "iteation #: 0006 cost=  0.334681 size_factor= 0.384679 price_offset= -0.523937\n",
      "iteation #: 0008 cost=  0.231054 size_factor= 0.492645 price_offset= -0.428846\n",
      "iteation #: 0010 cost=  0.161635 size_factor= 0.581017 price_offset= -0.351004\n",
      "iteation #: 0012 cost=  0.115134 size_factor= 0.65335 price_offset= -0.287282\n",
      "iteation #: 0014 cost=  0.083987 size_factor= 0.712556 price_offset= -0.235119\n",
      "iteation #: 0016 cost=  0.063126 size_factor= 0.761017 price_offset= -0.192418\n",
      "iteation #: 0018 cost=  0.049155 size_factor= 0.800683 price_offset= -0.157462\n",
      "iteation #: 0020 cost=  0.039799 size_factor= 0.83315 price_offset= -0.128848\n",
      "iteation #: 0022 cost=  0.033535 size_factor= 0.859725 price_offset= -0.105423\n",
      "iteation #: 0024 cost=  0.029342 size_factor= 0.881477 price_offset= -0.086248\n",
      "iteation #: 0026 cost=  0.026535 size_factor= 0.899281 price_offset= -0.070551\n",
      "iteation #: 0028 cost=  0.024657 size_factor= 0.913855 price_offset= -0.0577014\n",
      "iteation #: 0030 cost=  0.023401 size_factor= 0.925783 price_offset= -0.0471826\n",
      "iteation #: 0032 cost=  0.022560 size_factor= 0.935546 price_offset= -0.0385718\n",
      "iteation #: 0034 cost=  0.021999 size_factor= 0.943538 price_offset= -0.031523\n",
      "iteation #: 0036 cost=  0.021624 size_factor= 0.950079 price_offset= -0.0257528\n",
      "iteation #: 0038 cost=  0.021373 size_factor= 0.955434 price_offset= -0.0210293\n",
      "iteation #: 0040 cost=  0.021206 size_factor= 0.959816 price_offset= -0.0171626\n",
      "iteation #: 0042 cost=  0.021095 size_factor= 0.963403 price_offset= -0.0139973\n",
      "iteation #: 0044 cost=  0.021021 size_factor= 0.966339 price_offset= -0.0114061\n",
      "iteation #: 0046 cost=  0.020971 size_factor= 0.968742 price_offset= -0.009285\n",
      "iteation #: 0048 cost=  0.020939 size_factor= 0.970709 price_offset= -0.00754863\n",
      "iteation #: 0050 cost=  0.020917 size_factor= 0.972319 price_offset= -0.00612723\n",
      "Optimization Finished!\n",
      "Trained cost= 0.0209172 size_factor= 0.972319 price_offset= -0.00612723 \n",
      "\n"
     ]
    },
    {
     "data": {
      "image/png": "[encoded data removed]",
      "text/plain": [
       "<matplotlib.figure.Figure at 0x27f56423e10>"
      ]
     },
     "metadata": {},
     "output_type": "display_data"
    }
   ],
   "source": [
    "with tf.Session() as sess:\n",
    "    sess.run(init)\n",
    "    \n",
    "    # Mostrar el proceso de entrenamiento y el numero de iteraciones\n",
    "    display_every = 2;\n",
    "    num_training_iter = 50;\n",
    "    \n",
    "    #Unir los datos de entrenamiento\n",
    "    for iteration in range(num_training_iter):\n",
    "        for(x, y) in zip(train_house_size_norm, train_house_price_norm):\n",
    "            sess.run(optimizer, feed_dict={tf_house_size: x, tf_price: y})\n",
    "    \n",
    "        if(iteration + 1)% display_every == 0:\n",
    "            c = sess.run(tf_cost, feed_dict={tf_house_size: train_house_size_norm, tf_price: train_house_price_norm});\n",
    "            print(\"iteation #:\", \"%04d\" % (iteration + 1), \"cost=\", \"{:9f}\".format(c), \\\n",
    "                 \"size_factor=\", sess.run(tf_size_factor), \"price_offset=\", sess.run(tf_price_offset))\n",
    "        \n",
    "    print(\"Optimization Finished!\")\n",
    "    training_cost = sess.run(tf_cost, feed_dict={tf_house_size: train_house_size_norm, tf_price: train_house_price_norm})\n",
    "    print(\"Trained cost=\", training_cost, \"size_factor=\", sess.run(tf_size_factor), \"price_offset=\", sess.run(tf_price_offset), '\\n')\n",
    "\n",
    "    # Volver valores a la escala original\n",
    "\n",
    "    train_house_size_mean = train_house_size.mean()\n",
    "    train_house_size_std = train_house_size.std()\n",
    "\n",
    "    train_price_mean = train_house_price.mean()\n",
    "    train_price_std = train_house_price.std()\n",
    "    \n",
    "    # Graficas\n",
    "    \n",
    "    plt.rcParams[\"figure.figsize\"]=(10, 8)\n",
    "    plt.figure()\n",
    "    plt.ylabel(\"Price\")\n",
    "    plt.xlabel(\"Size (sq.ft)\")\n",
    "    plt.plot(train_house_size, train_house_price, 'go', label=\"Training data\")\n",
    "    plt.plot(test_house_size, test_house_price, 'mo', label=\"Testing data\")\n",
    "    plt.plot(train_house_size_norm * train_house_size_std + train_house_size_mean,\n",
    "            (sess.run(tf_size_factor) * train_house_size_norm + sess.run(tf_price_offset)) * train_price_std +\n",
    "            train_price_mean, label='Learned Regression')\n",
    "\n",
    "    plt.legend(loc='upper left')\n",
    "    plt.show()\n",
    "        "
   ]
  },
  {
   "cell_type": "code",
   "execution_count": null,
   "metadata": {
    "collapsed": true
   },
   "outputs": [],
   "source": []
  }
 ],
 "metadata": {
  "kernelspec": {
   "display_name": "Python 3",
   "language": "python",
   "name": "python3"
  },
  "language_info": {
   "codemirror_mode": {
    "name": "ipython",
    "version": 3
   },
   "file_extension": ".py",
   "mimetype": "text/x-python",
   "name": "python",
   "nbconvert_exporter": "python",
   "pygments_lexer": "ipython3",
   "version": "3.6.1"
  }
 },
 "nbformat": 4,
 "nbformat_minor": 2
}
