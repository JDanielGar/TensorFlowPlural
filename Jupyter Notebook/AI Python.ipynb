{
 "cells": [
  {
   "cell_type": "markdown",
   "metadata": {},
   "source": [
    "# Aprendizaje Supervisado: "
   ]
  },
  {
   "cell_type": "markdown",
   "metadata": {},
   "source": [
    "#### - Supervisado: Entrenamiento por medio de datos etiquetados."
   ]
  },
  {
   "cell_type": "markdown",
   "metadata": {},
   "source": [
    "#### - No Supervisados: Entrenamiento por medio de clasificacion y organizacion de datos ( Datos no etiquetados )"
   ]
  },
  {
   "cell_type": "markdown",
   "metadata": {},
   "source": [
    "### Prepocesamiento de datos"
   ]
  },
  {
   "cell_type": "code",
   "execution_count": 4,
   "metadata": {},
   "outputs": [],
   "source": [
    "# Librerias\n",
    "\n",
    "import numpy as np\n",
    "from sklearn import preprocessing\n",
    "\n",
    "# Datos\n",
    "\n",
    "input_data = np.array([[5.1, -2.9, 3.3],\n",
    "                     [-1.2, 7.8, -6.1],\n",
    "                     [3.9, 0.4, 2.1],\n",
    "                     [7.3, -9.9, -4.5]])"
   ]
  },
  {
   "cell_type": "markdown",
   "metadata": {},
   "source": [
    "#### Binarizacion:"
   ]
  },
  {
   "cell_type": "code",
   "execution_count": 11,
   "metadata": {},
   "outputs": [
    {
     "name": "stdout",
     "output_type": "stream",
     "text": [
      "Binarized data:\n",
      " [[ 1.  0.  1.]\n",
      " [ 0.  1.  0.]\n",
      " [ 1.  0.  0.]\n",
      " [ 1.  0.  0.]]\n"
     ]
    }
   ],
   "source": [
    "# Binarizacion de \"input_data\" \n",
    "\n",
    "data_binarized = preprocessing.Binarizer(threshold=2.1).transform(input_data) # Threshold = Límite.\n",
    "print(\"Binarized data:\\n\", data_binarized)"
   ]
  },
  {
   "cell_type": "markdown",
   "metadata": {},
   "source": [
    "#### Eliminación de la Media:"
   ]
  },
  {
   "cell_type": "code",
   "execution_count": 13,
   "metadata": {},
   "outputs": [
    {
     "name": "stdout",
     "output_type": "stream",
     "text": [
      "Before:\n",
      "Mean = [ 3.775 -1.15  -1.3  ]\n",
      "Std Deviation= [ 3.12039661  6.36651396  4.0620192 ]\n"
     ]
    }
   ],
   "source": [
    "# Desviacion estandar y media.\n",
    "\n",
    "print(\"Before:\")\n",
    "print(\"Mean =\", input_data.mean(axis=0))\n",
    "print(\"Std Deviation=\", input_data.std(axis=0))"
   ]
  },
  {
   "cell_type": "code",
   "execution_count": 15,
   "metadata": {},
   "outputs": [
    {
     "name": "stdout",
     "output_type": "stream",
     "text": [
      "After:\n",
      "Mean = [  1.11022302e-16   0.00000000e+00   2.77555756e-17]\n",
      "Std Deviation [ 1.  1.  1.]\n"
     ]
    }
   ],
   "source": [
    "# Eliminacion de la media.\n",
    "\n",
    "deta_scaled = preprocessing.scale(input_data)\n",
    "print(\"After:\")\n",
    "print(\"Mean =\", deta_scaled.mean(axis=0))\n",
    "print(\"Std Deviation\", deta_scaled.std(axis=0))"
   ]
  },
  {
   "cell_type": "markdown",
   "metadata": {},
   "source": [
    "#### Escalado:"
   ]
  },
  {
   "cell_type": "code",
   "execution_count": 20,
   "metadata": {},
   "outputs": [
    {
     "name": "stdout",
     "output_type": "stream",
     "text": [
      "Datos escalados en un minimo y un maximo: \n",
      " [[ 0.74117647  0.39548023  1.        ]\n",
      " [ 0.          1.          0.        ]\n",
      " [ 0.6         0.5819209   0.87234043]\n",
      " [ 1.          0.          0.17021277]]\n"
     ]
    }
   ],
   "source": [
    "# Las características de los valores varian en muchos valores aleatorios. Cuando se escala esos valores aleatorios se reducen.\n",
    "\n",
    "# Escalado Minimo y Escalado Maximo.\n",
    "\n",
    "data_scaler_minmax = preprocessing.MinMaxScaler(feature_range=(0, 1)) # Parametro de escalado.\n",
    "data_scaled_minmax = data_scaler_minmax.fit_transform(input_data) # Variable a escalar\n",
    "\n",
    "print(\"Datos escalados en un minimo y un maximo: \\n\", data_scaled_minmax)"
   ]
  },
  {
   "cell_type": "markdown",
   "metadata": {},
   "source": [
    "#### Normalización:"
   ]
  },
  {
   "cell_type": "code",
   "execution_count": 24,
   "metadata": {},
   "outputs": [
    {
     "name": "stdout",
     "output_type": "stream",
     "text": [
      "\n",
      "Datos L1: [[ 0.45132743 -0.25663717  0.2920354 ]\n",
      " [-0.0794702   0.51655629 -0.40397351]\n",
      " [ 0.609375    0.0625      0.328125  ]\n",
      " [ 0.33640553 -0.4562212  -0.20737327]]\n",
      "\n",
      "Datos L2: [[ 0.75765788 -0.43082507  0.49024922]\n",
      " [-0.12030718  0.78199664 -0.61156148]\n",
      " [ 0.87690281  0.08993875  0.47217844]\n",
      " [ 0.55734935 -0.75585734 -0.34357152]]\n"
     ]
    }
   ],
   "source": [
    "# Los vectores pueden ser medidos en una escala común. Existen dos:\n",
    "# L1: Least Absolute Deviation (Minimos Errores Absolutos): La suma de valores absolutos debe ser 1 en cada fila.\n",
    "# L2: Least Squares (Minimos Cuadrados): La suma de los cuadrados debe ser uno\n",
    "\n",
    "# Normalizacón de nuestros datos: \n",
    "\n",
    "# L1\n",
    "\n",
    "data_normalized_l1 = preprocessing.normalize(input_data, norm='l1')\n",
    "print(\"\\nDatos L1:\", data_normalized_l1)\n",
    "\n",
    "# L2\n",
    "\n",
    "data_normalized_l2 = preprocessing.normalize(input_data, norm='l2')\n",
    "print(\"\\nDatos L2:\", data_normalized_l2)"
   ]
  },
  {
   "cell_type": "markdown",
   "metadata": {},
   "source": [
    "#### Codificación de etiquetas:"
   ]
  },
  {
   "cell_type": "code",
   "execution_count": 26,
   "metadata": {},
   "outputs": [
    {
     "name": "stdout",
     "output_type": "stream",
     "text": [
      "\n",
      "Labels mappings\n",
      "black --> 0\n",
      "green --> 1\n",
      "red --> 2\n",
      "white --> 3\n",
      "yellow --> 4\n"
     ]
    }
   ],
   "source": [
    "# Datos de ejemplo.\n",
    "\n",
    "input_labels = ['red', 'black', 'red', 'green', 'black', 'yellow', 'white']\n",
    "\n",
    "# Codificador de etiquetas.\n",
    "\n",
    "encoder = preprocessing.LabelEncoder()\n",
    "encoder.fit(input_labels)\n",
    "\n",
    "print('\\nLabels mappings')\n",
    "for i, item in enumerate(encoder.classes_):\n",
    "    print(item, '-->', i)"
   ]
  },
  {
   "cell_type": "code",
   "execution_count": 31,
   "metadata": {},
   "outputs": [
    {
     "name": "stdout",
     "output_type": "stream",
     "text": [
      "\n",
      "Labels = ['green', 'red', 'black']\n",
      "Encoded values =  [1, 2, 0]\n"
     ]
    }
   ],
   "source": [
    "# Codificacion de datos:\n",
    "\n",
    "test_labels = ['green', 'red', 'black']\n",
    "encoded_values = encoder.transform(test_labels)\n",
    "print('\\nLabels =', test_labels)\n",
    "print('Encoded values = ', list(encoded_values))"
   ]
  },
  {
   "cell_type": "code",
   "execution_count": 32,
   "metadata": {},
   "outputs": [
    {
     "name": "stdout",
     "output_type": "stream",
     "text": [
      "\n",
      "Encoded values = [1 2 0]\n",
      "Decoded labels= ['green', 'red', 'black']\n"
     ]
    }
   ],
   "source": [
    "# Decodificación de datos:\n",
    "\n",
    "encode_values = [3, 0, 4, 1]\n",
    "decoded_list = encoder.inverse_transform(encoded_values)\n",
    "print('\\nEncoded values =', encoded_values)\n",
    "print('Decoded labels=', list(decoded_list))"
   ]
  },
  {
   "cell_type": "markdown",
   "metadata": {},
   "source": [
    "#### Regresión l"
   ]
  }
 ],
 "metadata": {
  "kernelspec": {
   "display_name": "Python 3",
   "language": "python",
   "name": "python3"
  },
  "language_info": {
   "codemirror_mode": {
    "name": "ipython",
    "version": 3
   },
   "file_extension": ".py",
   "mimetype": "text/x-python",
   "name": "python",
   "nbconvert_exporter": "python",
   "pygments_lexer": "ipython3",
   "version": "3.6.1"
  }
 },
 "nbformat": 4,
 "nbformat_minor": 2
}
