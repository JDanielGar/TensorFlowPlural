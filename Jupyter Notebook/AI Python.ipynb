{
 "cells": [
  {
   "cell_type": "markdown",
   "metadata": {},
   "source": [
    "# Aprendizaje Supervisado: "
   ]
  },
  {
   "cell_type": "markdown",
   "metadata": {},
   "source": [
    "#### - Supervisado: Entrenamiento por medio de datos etiquetados."
   ]
  },
  {
   "cell_type": "markdown",
   "metadata": {},
   "source": [
    "#### - No Supervisados: Entrenamiento por medio de clasificacion y organizacion de datos ( Datos no etiquetados )"
   ]
  },
  {
   "cell_type": "markdown",
   "metadata": {},
   "source": [
    "### Prepocesamiento de datos"
   ]
  },
  {
   "cell_type": "code",
   "execution_count": 25,
   "metadata": {
    "collapsed": true
   },
   "outputs": [],
   "source": [
    "# Librerias\n",
    "\n",
    "import numpy as np\n",
    "from sklearn import preprocessing\n",
    "\n",
    "# Datos\n",
    "\n",
    "input_data = np.array([[5.1, -2.9, 3.3],\n",
    "                     [-1.2, 7.8, -6.1],\n",
    "                     [3.9, 0.4, 2.1],\n",
    "                     [7.3, -9.9, -4.5]])"
   ]
  },
  {
   "cell_type": "markdown",
   "metadata": {},
   "source": [
    "#### Binarizacion:"
   ]
  },
  {
   "cell_type": "code",
   "execution_count": 26,
   "metadata": {},
   "outputs": [
    {
     "name": "stdout",
     "output_type": "stream",
     "text": [
      "Binarized data:\n",
      " [[ 1.  0.  1.]\n",
      " [ 0.  1.  0.]\n",
      " [ 1.  0.  0.]\n",
      " [ 1.  0.  0.]]\n"
     ]
    }
   ],
   "source": [
    "# Binarizacion de \"input_data\" \n",
    "\n",
    "data_binarized = preprocessing.Binarizer(threshold=2.1).transform(input_data) # Threshold = Límite.\n",
    "print(\"Binarized data:\\n\", data_binarized)"
   ]
  },
  {
   "cell_type": "markdown",
   "metadata": {},
   "source": [
    "#### Eliminación de la Media:"
   ]
  },
  {
   "cell_type": "code",
   "execution_count": 27,
   "metadata": {},
   "outputs": [
    {
     "name": "stdout",
     "output_type": "stream",
     "text": [
      "Before:\n",
      "Mean = [ 3.775 -1.15  -1.3  ]\n",
      "Std Deviation= [ 3.12039661  6.36651396  4.0620192 ]\n"
     ]
    }
   ],
   "source": [
    "# Desviacion estandar y media.\n",
    "\n",
    "print(\"Before:\")\n",
    "print(\"Mean =\", input_data.mean(axis=0))\n",
    "print(\"Std Deviation=\", input_data.std(axis=0))"
   ]
  },
  {
   "cell_type": "code",
   "execution_count": 28,
   "metadata": {},
   "outputs": [
    {
     "name": "stdout",
     "output_type": "stream",
     "text": [
      "After:\n",
      "Mean = [  1.11022302e-16   0.00000000e+00   2.77555756e-17]\n",
      "Std Deviation [ 1.  1.  1.]\n"
     ]
    }
   ],
   "source": [
    "# Eliminacion de la media.\n",
    "\n",
    "deta_scaled = preprocessing.scale(input_data)\n",
    "print(\"After:\")\n",
    "print(\"Mean =\", deta_scaled.mean(axis=0))\n",
    "print(\"Std Deviation\", deta_scaled.std(axis=0))"
   ]
  },
  {
   "cell_type": "markdown",
   "metadata": {},
   "source": [
    "#### Escalado:"
   ]
  },
  {
   "cell_type": "code",
   "execution_count": 29,
   "metadata": {},
   "outputs": [
    {
     "name": "stdout",
     "output_type": "stream",
     "text": [
      "Datos escalados en un minimo y un maximo: \n",
      " [[ 0.74117647  0.39548023  1.        ]\n",
      " [ 0.          1.          0.        ]\n",
      " [ 0.6         0.5819209   0.87234043]\n",
      " [ 1.          0.          0.17021277]]\n"
     ]
    }
   ],
   "source": [
    "# Las características de los valores varian en muchos valores aleatorios. Cuando se escala esos valores aleatorios se reducen.\n",
    "\n",
    "# Escalado Minimo y Escalado Maximo.\n",
    "\n",
    "data_scaler_minmax = preprocessing.MinMaxScaler(feature_range=(0, 1)) # Parametro de escalado.\n",
    "data_scaled_minmax = data_scaler_minmax.fit_transform(input_data) # Variable a escalar\n",
    "\n",
    "print(\"Datos escalados en un minimo y un maximo: \\n\", data_scaled_minmax)"
   ]
  },
  {
   "cell_type": "markdown",
   "metadata": {},
   "source": [
    "#### Normalización:"
   ]
  },
  {
   "cell_type": "code",
   "execution_count": 30,
   "metadata": {
    "scrolled": true
   },
   "outputs": [
    {
     "name": "stdout",
     "output_type": "stream",
     "text": [
      "\n",
      "Datos L1: [[ 0.45132743 -0.25663717  0.2920354 ]\n",
      " [-0.0794702   0.51655629 -0.40397351]\n",
      " [ 0.609375    0.0625      0.328125  ]\n",
      " [ 0.33640553 -0.4562212  -0.20737327]]\n",
      "\n",
      "Datos L2: [[ 0.75765788 -0.43082507  0.49024922]\n",
      " [-0.12030718  0.78199664 -0.61156148]\n",
      " [ 0.87690281  0.08993875  0.47217844]\n",
      " [ 0.55734935 -0.75585734 -0.34357152]]\n"
     ]
    }
   ],
   "source": [
    "# Los vectores pueden ser medidos en una escala común. Existen dos:\n",
    "# L1: Least Absolute Deviation (Minimos Errores Absolutos): La suma de valores absolutos debe ser 1 en cada fila.\n",
    "# L2: Least Squares (Minimos Cuadrados): La suma de los cuadrados debe ser uno\n",
    "\n",
    "# Normalizacón de nuestros datos: \n",
    "\n",
    "# L1\n",
    "\n",
    "data_normalized_l1 = preprocessing.normalize(input_data, norm='l1')\n",
    "print(\"\\nDatos L1:\", data_normalized_l1)\n",
    "\n",
    "# L2\n",
    "\n",
    "data_normalized_l2 = preprocessing.normalize(input_data, norm='l2')\n",
    "print(\"\\nDatos L2:\", data_normalized_l2)"
   ]
  },
  {
   "cell_type": "markdown",
   "metadata": {},
   "source": [
    "#### Codificación de etiquetas:"
   ]
  },
  {
   "cell_type": "code",
   "execution_count": 31,
   "metadata": {},
   "outputs": [
    {
     "name": "stdout",
     "output_type": "stream",
     "text": [
      "\n",
      "Labels mappings\n",
      "black --> 0\n",
      "green --> 1\n",
      "red --> 2\n",
      "white --> 3\n",
      "yellow --> 4\n"
     ]
    }
   ],
   "source": [
    "# Datos de ejemplo.\n",
    "\n",
    "input_labels = ['red', 'black', 'red', 'green', 'black', 'yellow', 'white']\n",
    "\n",
    "# Codificador de etiquetas.\n",
    "\n",
    "encoder = preprocessing.LabelEncoder()\n",
    "encoder.fit(input_labels)\n",
    "\n",
    "print('\\nLabels mappings')\n",
    "for i, item in enumerate(encoder.classes_):\n",
    "    print(item, '-->', i)"
   ]
  },
  {
   "cell_type": "code",
   "execution_count": 32,
   "metadata": {},
   "outputs": [
    {
     "name": "stdout",
     "output_type": "stream",
     "text": [
      "\n",
      "Labels = ['green', 'red', 'black']\n",
      "Encoded values =  [1, 2, 0]\n"
     ]
    }
   ],
   "source": [
    "# Codificacion de datos:\n",
    "\n",
    "test_labels = ['green', 'red', 'black']\n",
    "encoded_values = encoder.transform(test_labels)\n",
    "print('\\nLabels =', test_labels)\n",
    "print('Encoded values = ', list(encoded_values))"
   ]
  },
  {
   "cell_type": "code",
   "execution_count": 33,
   "metadata": {},
   "outputs": [
    {
     "name": "stdout",
     "output_type": "stream",
     "text": [
      "\n",
      "Encoded values = [1 2 0]\n",
      "Decoded labels= ['green', 'red', 'black']\n"
     ]
    }
   ],
   "source": [
    "# Decodificación de datos:\n",
    "\n",
    "encode_values = [3, 0, 4, 1]\n",
    "decoded_list = encoder.inverse_transform(encoded_values)\n",
    "print('\\nEncoded values =', encoded_values)\n",
    "print('Decoded labels=', list(decoded_list))"
   ]
  },
  {
   "cell_type": "markdown",
   "metadata": {},
   "source": [
    "###### Utilities archive (utilities.py)"
   ]
  },
  {
   "cell_type": "code",
   "execution_count": 34,
   "metadata": {
    "collapsed": true
   },
   "outputs": [],
   "source": [
    "def visualize_classifier(classifier, X, y):\n",
    "    # Define the minimum and maximum values for X and Y\n",
    "    # that will be used in the mesh grid\n",
    "    min_x, max_x = X[:, 0].min() - 1.0, X[:, 0].max() + 1.0\n",
    "    \n",
    "    print('\\nMin X:', X[:, 0].min(), '- 1.0 =', min_x)\n",
    "    print('\\nMax X:', X[:, 0].max(), '+ 1.0 =', max_x)\n",
    "    \n",
    "    min_y, max_y = X[:, 1].min() - 1.0, X[:, 1].max() + 1.0\n",
    "    \n",
    "    print('\\nMin Y:', X[:, 1].min(), '-1.0 =', min_y)\n",
    "    print('\\nMax Y:', X[:, 1].max(), '+1.0 =', max_y)\n",
    "\n",
    "    # Define the step size to use in plotting the mesh grid \n",
    "    mesh_step_size = 0.01\n",
    "\n",
    "    # Define the mesh grid of X and Y values\n",
    "    x_vals, y_vals = np.meshgrid(np.arange(min_x, max_x, mesh_step_size), np.arange(min_y, max_y, mesh_step_size))\n",
    "          \n",
    "    # Run the classifier on the mesh grid\n",
    "    output = classifier.predict(np.c_[x_vals.ravel(), y_vals.ravel()])\n",
    "\n",
    "    # Reshape the output array\n",
    "    output = output.reshape(x_vals.shape)\n",
    "\n",
    "    # Create a plot\n",
    "    plt.figure()\n",
    "\n",
    "    # Choose a color scheme for the plot \n",
    "    plt.pcolormesh(x_vals, y_vals, output, cmap=plt.cm.gray)\n",
    "\n",
    "    # Overlay the training points on the plot \n",
    "    plt.scatter(X[:, 0], X[:, 1], c=y, s=75, edgecolors='black', linewidth=1, cmap=plt.cm.Paired)\n",
    "\n",
    "    # Specify the boundaries of the plot\n",
    "    plt.xlim(x_vals.min(), x_vals.max())\n",
    "    plt.ylim(y_vals.min(), y_vals.max())\n",
    "\n",
    "    # Specify the ticks on the X and Y axes\n",
    "    plt.xticks((np.arange(int(X[:, 0].min() - 1), int(X[:, 0].max() + 1), 1.0)))\n",
    "    plt.yticks((np.arange(int(X[:, 1].min() - 1), int(X[:, 1].max() + 1), 1.0)))\n",
    "\n",
    "    plt.show()"
   ]
  },
  {
   "cell_type": "markdown",
   "metadata": {},
   "source": [
    "#### Regresión logística:"
   ]
  },
  {
   "cell_type": "code",
   "execution_count": 35,
   "metadata": {
    "scrolled": true
   },
   "outputs": [
    {
     "name": "stdout",
     "output_type": "stream",
     "text": [
      "\n",
      "Min X: 0.5 - 1.0 = -0.5\n",
      "\n",
      "Max X: 6.0 + 1.0 = 7.0\n",
      "\n",
      "Min Y: 0.4 -1.0 = -0.6\n",
      "\n",
      "Max Y: 8.0 +1.0 = 9.0\n"
     ]
    },
    {
     "data": {
      "image/png": "[encoded data removed]",
      "text/plain": [
       "<matplotlib.figure.Figure at 0x1f559def4a8>"
      ]
     },
     "metadata": {},
     "output_type": "display_data"
    }
   ],
   "source": [
    "# Se usa para explicar la relación entre variables de entrada y salida\n",
    "\n",
    "# Se necesita una funcion logistica para estimar la probabilidad y encontrar relaciones.\n",
    "\n",
    "from sklearn import linear_model\n",
    "import matplotlib.pyplot as plt\n",
    "\n",
    "# Vectores bidimensionales.\n",
    "\n",
    "X = np.array([[3.1, 7.2], [4, 6.7], [2.9, 8], [5.1, 4.5], [6, 5], [5.6, 5], [3.3, 0.4], [3.9, 0.9], [2.8, 1], [0.5, 3.4], [1, 4], [0.6, 4.9]])\n",
    "\n",
    "y = np.array([0, 0, 0, 1, 1, 1, 2, 2, 2, 3, 3, 3])\n",
    "\n",
    "# Clasificador de regresión logistica:\n",
    "\n",
    "classifier = linear_model.LogisticRegression(solver='liblinear', C=1)\n",
    "\n",
    "classifier.fit(X, y)\n",
    "visualize_classifier(classifier, X, y)"
   ]
  },
  {
   "cell_type": "code",
   "execution_count": 36,
   "metadata": {},
   "outputs": [
    {
     "data": {
      "text/plain": [
       "array([ 0. ,  0.2,  0.4,  0.6,  0.8])"
      ]
     },
     "execution_count": 36,
     "metadata": {},
     "output_type": "execute_result"
    }
   ],
   "source": [
    "# np.arange(rango_minimo, rango_maximo, intervalo)\n",
    "\n",
    "np.arange(0, 1, .2)"
   ]
  },
  {
   "cell_type": "markdown",
   "metadata": {
    "collapsed": true
   },
   "source": [
    "#### Naïve Bayes Classifier:"
   ]
  },
  {
   "cell_type": "code",
   "execution_count": 37,
   "metadata": {
    "collapsed": true
   },
   "outputs": [],
   "source": [
    "# Teorema de Bayes: P(A|B) = P(B|A)P(A)/P(B)"
   ]
  },
  {
   "cell_type": "code",
   "execution_count": 38,
   "metadata": {
    "collapsed": true
   },
   "outputs": [],
   "source": [
    "# Librerias\n",
    "\n",
    "from sklearn.naive_bayes import GaussianNB\n",
    "from sklearn import cross_validation"
   ]
  },
  {
   "cell_type": "code",
   "execution_count": 39,
   "metadata": {
    "collapsed": true
   },
   "outputs": [],
   "source": [
    "# Contenedor de Datos\n",
    "input_file = 'data_multivar_nb.txt';\n",
    "\n",
    "# Cargar Datos:\n",
    "data = np.loadtxt(input_file, delimiter=',')\n",
    "X, y= data[:, :-1], data[:, -1]"
   ]
  },
  {
   "cell_type": "code",
   "execution_count": 98,
   "metadata": {},
   "outputs": [
    {
     "name": "stdout",
     "output_type": "stream",
     "text": [
      "##### Rows #####\n",
      "\n",
      "First Element of Rows \n",
      " [[1 2 3]]\n",
      "\n",
      "First Element of Rows Deleted \n",
      " [[4 5 6]\n",
      " [7 8 9]]\n",
      "\n",
      "##### Columns #####\n",
      "\n",
      "First Element of Columns \n",
      " [[1 2 3]]\n",
      "\n",
      "First Element of Columns Deleted \n",
      " [[2 3]\n",
      " [5 6]\n",
      " [8 9]]\n",
      "\n",
      "Test\n",
      "[[7 8 9]]\n"
     ]
    }
   ],
   "source": [
    "# Explicacion 'Slicing simple method'\n",
    "\n",
    "test_data = np.array([[1, 2, 3], [4, 5, 6], [7, 8, 9]])\n",
    "\n",
    "# data[filas(rows) ,columnas( ) ]\n",
    "\n",
    "# Filas\n",
    "\n",
    "first_element_of_rows = test_data[:1, :] # Se usa el elemento de la primera fila.\n",
    "first_element_of_rows_deleted = test_data[1: , :] # Se elimina la primera fila.\n",
    "\n",
    "# Columnas\n",
    "\n",
    "first_element_of_columns = test_data[:1, :] # Se usa el elemente de la primer acolumna\n",
    "first_element_of_columns_deleted = test_data[:, 1:] # Se elimina la primera columna.\n",
    "\n",
    "# Printing\n",
    "\n",
    "print('##### Rows #####\\n')\n",
    "print('First Element of Rows \\n', first_element_of_rows)\n",
    "print('\\nFirst Element of Rows Deleted \\n', first_element_of_rows_deleted)\n",
    "\n",
    "print('\\n##### Columns #####')\n",
    "print('\\nFirst Element of Columns \\n', first_element_of_columns)\n",
    "print('\\nFirst Element of Columns Deleted \\n', first_element_of_columns_deleted)\n",
    "\n",
    "print('\\nTest')\n",
    "print(first_element_of_rows_test)"
   ]
  }
 ],
 "metadata": {
  "kernelspec": {
   "display_name": "Python 3",
   "language": "python",
   "name": "python3"
  },
  "language_info": {
   "codemirror_mode": {
    "name": "ipython",
    "version": 3
   },
   "file_extension": ".py",
   "mimetype": "text/x-python",
   "name": "python",
   "nbconvert_exporter": "python",
   "pygments_lexer": "ipython3",
   "version": "3.6.1"
  }
 },
 "nbformat": 4,
 "nbformat_minor": 2
}
